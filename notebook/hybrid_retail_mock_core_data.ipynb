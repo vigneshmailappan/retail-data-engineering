{
 "cells": [
  {
   "cell_type": "markdown",
   "metadata": {
    "application/vnd.databricks.v1+cell": {
     "cellMetadata": {
      "byteLimit": 2048000,
      "rowLimit": 10000
     },
     "inputWidgets": {},
     "nuid": "aa0fa7ae-51b3-4104-ba3d-532195a15bd7",
     "showTitle": false,
     "tableResultSettingsMap": {},
     "title": ""
    }
   },
   "source": [
    "# Importing necessary packages\n"
   ]
  },
  {
   "cell_type": "code",
   "execution_count": 0,
   "metadata": {
    "application/vnd.databricks.v1+cell": {
     "cellMetadata": {
      "byteLimit": 2048000,
      "rowLimit": 10000
     },
     "inputWidgets": {},
     "nuid": "e98fc40b-4738-4330-865c-7eb6e1da7274",
     "showTitle": false,
     "tableResultSettingsMap": {},
     "title": ""
    }
   },
   "outputs": [],
   "source": [
    "from pyspark.sql import functions as F, types as T, Window\n",
    "from datetime import datetime, timedelta\n",
    "import uuid, random, json\n",
    "import random as _r"
   ]
  },
  {
   "cell_type": "markdown",
   "metadata": {
    "application/vnd.databricks.v1+cell": {
     "cellMetadata": {
      "byteLimit": 2048000,
      "rowLimit": 10000
     },
     "inputWidgets": {},
     "nuid": "25f6d46c-c138-4d33-ab38-d98a5c944c0e",
     "showTitle": false,
     "tableResultSettingsMap": {},
     "title": ""
    }
   },
   "source": [
    "# Preparing dataspace in UC ( unity catalog)"
   ]
  },
  {
   "cell_type": "code",
   "execution_count": 0,
   "metadata": {
    "application/vnd.databricks.v1+cell": {
     "cellMetadata": {
      "byteLimit": 2048000,
      "implicitDf": true,
      "rowLimit": 10000
     },
     "inputWidgets": {},
     "nuid": "c83e0cdd-ad0a-4eb6-9b64-a9f726669ec5",
     "showTitle": false,
     "tableResultSettingsMap": {},
     "title": ""
    }
   },
   "outputs": [
    {
     "output_type": "display_data",
     "data": {
      "application/vnd.databricks.empty-table+json": {
       "directive_name": "NoDirective"
      }
     },
     "metadata": {},
     "output_type": "display_data"
    }
   ],
   "source": [
    "%skip\n",
    "%sql\n",
    "--create catalog if not exists workspace2;\n",
    "create schema  if not exists workspace.files comment 'test schema';\n",
    "create volume  if not exists  workspace.files.testbed COMMENT 'Testbed for sample data';"
   ]
  },
  {
   "cell_type": "markdown",
   "metadata": {
    "application/vnd.databricks.v1+cell": {
     "cellMetadata": {
      "byteLimit": 2048000,
      "rowLimit": 10000
     },
     "inputWidgets": {},
     "nuid": "5259f449-ae1d-4f25-a3c8-f1d9644dedf5",
     "showTitle": false,
     "tableResultSettingsMap": {},
     "title": ""
    }
   },
   "source": [
    "# Setting up path\n",
    "Before filling it up create volume in catalog and copy base path from there. "
   ]
  },
  {
   "cell_type": "code",
   "execution_count": 0,
   "metadata": {
    "application/vnd.databricks.v1+cell": {
     "cellMetadata": {
      "byteLimit": 2048000,
      "rowLimit": 10000
     },
     "inputWidgets": {},
     "nuid": "7caadab7-0d5d-4284-b821-7d78bc954ecb",
     "showTitle": false,
     "tableResultSettingsMap": {},
     "title": ""
    }
   },
   "outputs": [],
   "source": [
    "\n",
    "BRONZE_ROOT = f\"/Volumes/workspace/files/testbed/hybrid_retail/bronze\"\n",
    "LANDING_ROOT = f\"/Volumes/workspace/files/testbed/hybrid_retail/landing\"\n",
    "\n",
    "PATHS = {\n",
    "    \"customers\": f\"{BRONZE_ROOT}/customers\",\n",
    "    \"products\":  f\"{BRONZE_ROOT}/products\",\n",
    "    \"stores\":    f\"{BRONZE_ROOT}/stores\",\n",
    "    \"employees\": f\"{BRONZE_ROOT}/employees\",\n",
    "    \"inventory\": f\"{BRONZE_ROOT}/inventory\",\n",
    "    \"sales\":     f\"{BRONZE_ROOT}/sales\",\n",
    "    \"api_products_updates\": f\"{LANDING_ROOT}/api_products_updates_json\",\n",
    "    \"sftp_inventory\":       f\"{LANDING_ROOT}/sftp_inventory_csv\",\n",
    "}"
   ]
  },
  {
   "cell_type": "markdown",
   "metadata": {
    "application/vnd.databricks.v1+cell": {
     "cellMetadata": {
      "byteLimit": 2048000,
      "rowLimit": 10000
     },
     "inputWidgets": {},
     "nuid": "3ddd76f1-2b04-46b5-8a09-424616bf5768",
     "showTitle": false,
     "tableResultSettingsMap": {},
     "title": ""
    }
   },
   "source": [
    "# Create Required Directories"
   ]
  },
  {
   "cell_type": "code",
   "execution_count": 0,
   "metadata": {
    "application/vnd.databricks.v1+cell": {
     "cellMetadata": {
      "byteLimit": 2048000,
      "rowLimit": 10000
     },
     "inputWidgets": {},
     "nuid": "53a45cd0-22c7-409b-9fa2-7e76b374dc44",
     "showTitle": false,
     "tableResultSettingsMap": {},
     "title": ""
    }
   },
   "outputs": [],
   "source": [
    "for p in PATHS.values():\n",
    "    dbutils.fs.mkdirs(p)"
   ]
  },
  {
   "cell_type": "markdown",
   "metadata": {
    "application/vnd.databricks.v1+cell": {
     "cellMetadata": {
      "byteLimit": 2048000,
      "rowLimit": 10000
     },
     "inputWidgets": {},
     "nuid": "eafff2dc-2427-4157-8140-89b8c31cb7c0",
     "showTitle": false,
     "tableResultSettingsMap": {},
     "title": ""
    }
   },
   "source": [
    "# Adding Guiding Elements "
   ]
  },
  {
   "cell_type": "code",
   "execution_count": 0,
   "metadata": {
    "application/vnd.databricks.v1+cell": {
     "cellMetadata": {
      "byteLimit": 2048000,
      "rowLimit": 10000
     },
     "inputWidgets": {},
     "nuid": "7e1e2041-b27d-403d-a65e-35e28aa1ee97",
     "showTitle": false,
     "tableResultSettingsMap": {},
     "title": ""
    }
   },
   "outputs": [],
   "source": [
    "ODD_NAMES = [\"Müller\",\"José\",\"Zoë\",\"François\",\"IKEA – Malmö\",\"Café Au Lait\",\"Pokémon\",\"Naïve\",\"Smörgås\"]\n",
    "CURRENCIES = [\"SEK\",\"EUR\",\"USD\",\"GBP\"]\n",
    "COUNTRIES = [\"SE\",\"DE\",\"FR\",\"NL\",\"GB\",\"US\"]\n",
    "REGIONS = [\"Nordics\",\"DACH\",\"Benelux\",\"UKI\",\"North America\"]\n",
    "CATEGORIES = [\"Electronics\",\"Home Office\",\"Audio\",\"Accessories\",\"Gaming\",\"Appliances\"]\n",
    "BRANDS = [\"Contoso\",\"Fabrikam\",\"Litware\",\"Northwind\",\"AdventureWorks\",\"Tailspin\"]\n",
    "\n",
    "\n",
    "SEED = 42\n",
    "random.seed(SEED)"
   ]
  },
  {
   "cell_type": "markdown",
   "metadata": {
    "application/vnd.databricks.v1+cell": {
     "cellMetadata": {
      "byteLimit": 2048000,
      "rowLimit": 10000
     },
     "inputWidgets": {},
     "nuid": "d7d62767-9ac8-4d65-8cbc-ddeedb7252f5",
     "showTitle": false,
     "tableResultSettingsMap": {},
     "title": ""
    }
   },
   "source": [
    "# Creating required functions"
   ]
  },
  {
   "cell_type": "code",
   "execution_count": 0,
   "metadata": {
    "application/vnd.databricks.v1+cell": {
     "cellMetadata": {
      "byteLimit": 2048000,
      "rowLimit": 10000
     },
     "collapsed": true,
     "inputWidgets": {},
     "nuid": "ccb5d478-24d6-436c-8514-87d9f55c3195",
     "showTitle": false,
     "tableResultSettingsMap": {},
     "title": ""
    }
   },
   "outputs": [],
   "source": [
    "\n",
    "def new_uuid():\n",
    "    return str(uuid.uuid4())\n",
    "\n",
    "def random_ts_days_ago(max_days=365):\n",
    "    return (datetime.utcnow() - timedelta(days=random.randint(0, max_days)))\n",
    "\n",
    "\n",
    "@F.udf(\"string\")\n",
    "def udf_random_currency():\n",
    "    import random\n",
    "    return random.choice(CURRENCIES)\n",
    "\n",
    "@F.udf(\"double\")\n",
    "def udf_price_noise(x):\n",
    "    import random\n",
    "    def monetary_noise(amount: float):\n",
    "        r = random.random()\n",
    "        if r < 0.01:\n",
    "            return round(amount * random.uniform(10, 40), 2)\n",
    "        if r < 0.03:\n",
    "            return round(amount * random.uniform(0.01, 0.25), 2)\n",
    "        return round(amount, 2)\n",
    "    return monetary_noise(x if x else 0.0)\n",
    "\n",
    "\n",
    "def inject_encoding(s):\n",
    "    return _r.choice(ODD_NAMES) if _r.random() < 0.05 else s\n",
    "\n",
    "def maybe_null(v, p=0.03):\n",
    "    return None if _r.random() < p else v\n",
    "\n",
    "def maybe_empty(v, p=0.02):\n",
    "    return \"\" if _r.random() < p else v\n",
    "\n",
    "def maybe_inconsistent_date(ts, p=0.05):\n",
    "    if _r.random() > p:\n",
    "        return ts.strftime(\"%Y-%m-%d %H:%M:%S\")\n",
    "    choices = [ts.strftime(\"%d/%m/%Y\"), ts.strftime(\"%m-%d-%Y\"), ts.isoformat(timespec=\"seconds\"), \"2025-13-40\"]\n",
    "    return _r.choice(choices)\n",
    "\n",
    "# ---- Dimensions\n",
    "\n",
    "def gen_customers(n):\n",
    "    rows = []\n",
    "    for _ in range(n):\n",
    "        cid = new_uuid()\n",
    "        created_at = random_ts_days_ago(900)\n",
    "        last_updated = created_at\n",
    "        is_active = 1 if _r.random() > 0.05 else 0\n",
    "        first = _r.choice([\"Alice\",\"Bob\",\"Charlie\",\"Diana\",\"Erik\",\"Fatima\",\"Göran\",\"Hanna\",\"Ivan\",\"Julia\",\"Karl\"])\n",
    "        last  = _r.choice([\"Andersson\",\"Berg\",\"Carlsson\",\"Dahl\",\"Ekström\",\"Fischer\",\"Ghosh\",\"Hernández\",\"Ilyas\",\"Johansson\"])\n",
    "        full  = inject_encoding(f\"{first} {last}\")\n",
    "        email = maybe_empty(maybe_null(f\"{first.lower()}.{last.lower()}@example.com\"))\n",
    "        phone = maybe_null(f\"+46{_r.randint(700000000, 799999999)}\")\n",
    "        birth = random_ts_days_ago(365*60)\n",
    "        country = _r.choice(COUNTRIES)\n",
    "        currency = _r.choice(CURRENCIES)\n",
    "        rows.append((cid, full, email, phone, maybe_inconsistent_date(birth), country, currency, is_active, maybe_inconsistent_date(last_updated), maybe_inconsistent_date(created_at)))\n",
    "    schema = T.StructType([\n",
    "        T.StructField(\"customer_id\", T.StringType(), False),\n",
    "        T.StructField(\"full_name\", T.StringType(), True),\n",
    "        T.StructField(\"email\", T.StringType(), True),\n",
    "        T.StructField(\"phone\", T.StringType(), True),\n",
    "        T.StructField(\"birth_date\", T.StringType(), True),\n",
    "        T.StructField(\"country_code\", T.StringType(), True),\n",
    "        T.StructField(\"preferred_currency\", T.StringType(), True),\n",
    "        T.StructField(\"is_active\", T.IntegerType(), True),\n",
    "        T.StructField(\"last_updated\", T.StringType(), True),\n",
    "        T.StructField(\"created_at\", T.StringType(), True),\n",
    "    ])\n",
    "    return spark.createDataFrame(rows, schema)\n",
    "\n",
    "def gen_stores(n):\n",
    "    rows = []\n",
    "    for i in range(n):\n",
    "        sid = new_uuid()\n",
    "        created_at = random_ts_days_ago(1200)\n",
    "        last_updated = created_at\n",
    "        is_active = 1 if _r.random() > 0.08 else 0\n",
    "        name = inject_encoding(f\"Store-{i+1:03d}\")\n",
    "        region = _r.choice(REGIONS)\n",
    "        city = _r.choice([\"Malmö\",\"Stockholm\",\"Göteborg\",\"Lund\",\"Helsingborg\",\"Uppsala\",\"Copenhagen\",\"Hamburg\",\"Amsterdam\",\"London\",\"Seattle\"])\n",
    "        rows.append((sid, name, region, city, is_active, maybe_inconsistent_date(last_updated), maybe_inconsistent_date(created_at)))\n",
    "    schema = T.StructType([\n",
    "        T.StructField(\"store_id\", T.StringType(), False),\n",
    "        T.StructField(\"store_name\", T.StringType(), True),\n",
    "        T.StructField(\"region\", T.StringType(), True),\n",
    "        T.StructField(\"city\", T.StringType(), True),\n",
    "        T.StructField(\"is_active\", T.IntegerType(), True),\n",
    "        T.StructField(\"last_updated\", T.StringType(), True),\n",
    "        T.StructField(\"created_at\", T.StringType(), True),\n",
    "    ])\n",
    "    return spark.createDataFrame(rows, schema)\n",
    "\n",
    "def gen_products(n):\n",
    "    rows = []\n",
    "    for i in range(n):\n",
    "        pid = new_uuid()\n",
    "        created_at = random_ts_days_ago(1500)\n",
    "        last_updated = created_at\n",
    "        is_active = 1 if _r.random() > 0.03 else 0\n",
    "        name = inject_encoding(_r.choice([\"Laptop\",\"Smartphone\",\"Headphones\",\"Monitor\",\"Keyboard\",\"Mouse\",\"Printer\",\"Webcam\",\"Speaker\",\"VR Headset\",\"SSD\",\"HDD\"])) + f\" {_r.randint(100,999)}\"\n",
    "        brand = _r.choice(BRANDS)\n",
    "        category = _r.choice(CATEGORIES)\n",
    "        list_price = round(_r.uniform(9.99, 3499.0), 2)\n",
    "        cost = round(list_price * _r.uniform(0.4, 0.85), 2)\n",
    "        currency = _r.choice(CURRENCIES)\n",
    "        rows.append((pid, name, brand, category, cost, list_price, currency, is_active, maybe_inconsistent_date(last_updated), maybe_inconsistent_date(created_at)))\n",
    "    schema = T.StructType([\n",
    "        T.StructField(\"product_id\", T.StringType(), False),\n",
    "        T.StructField(\"product_name\", T.StringType(), True),\n",
    "        T.StructField(\"brand\", T.StringType(), True),\n",
    "        T.StructField(\"category\", T.StringType(), True),\n",
    "        T.StructField(\"unit_cost\", T.DoubleType(), True),\n",
    "        T.StructField(\"list_price\", T.DoubleType(), True),\n",
    "        T.StructField(\"currency\", T.StringType(), True),\n",
    "        T.StructField(\"is_active\", T.IntegerType(), True),\n",
    "        T.StructField(\"last_updated\", T.StringType(), True),\n",
    "        T.StructField(\"created_at\", T.StringType(), True),\n",
    "    ])\n",
    "    return spark.createDataFrame(rows, schema)\n",
    "\n",
    "def gen_employees(n, store_df):\n",
    "    sids = [r.store_id for r in store_df.select(\"store_id\").collect()]\n",
    "    rows = []\n",
    "    for _ in range(n):\n",
    "        eid = new_uuid()\n",
    "        store = _r.choice(sids)\n",
    "        hire = random_ts_days_ago(2000)\n",
    "        last_updated = hire\n",
    "        term_flag = 1 if _r.random() < 0.07 else 0\n",
    "        term_date = random_ts_days_ago(300) if term_flag else None\n",
    "        is_active = 0 if term_flag else 1\n",
    "        first = _r.choice([\"Asha\",\"Bengt\",\"Chen\",\"Deepa\",\"Eva\",\"Farid\",\"Greta\",\"Hiro\",\"Isha\",\"Jonas\",\"Kiran\",\"Lars\"])\n",
    "        last  = _r.choice([\"Lind\",\"Nguyen\",\"Olofsson\",\"Persson\",\"Quinn\",\"Rahman\",\"Svensson\",\"Tanaka\",\"Ulrich\",\"Vega\",\"Wang\",\"Xu\"])\n",
    "        name = inject_encoding(f\"{first} {last}\")\n",
    "        role = _r.choice([\"Cashier\",\"Manager\",\"Sales Associate\",\"Stock Clerk\",\"HR\",\"Security\",\"Cleaner\",\"Barista\",\"Technician\",\"Supervisor\"])\n",
    "        salary = round(_r.uniform(24000, 95000), 2)\n",
    "        rows.append((eid, name, store, role, salary, is_active, maybe_inconsistent_date(last_updated), maybe_inconsistent_date(hire), maybe_inconsistent_date(term_date) if term_date else None))\n",
    "    schema = T.StructType([\n",
    "        T.StructField(\"employee_id\", T.StringType(), False),\n",
    "        T.StructField(\"employee_name\", T.StringType(), True),\n",
    "        T.StructField(\"store_id\", T.StringType(), True),\n",
    "        T.StructField(\"role\", T.StringType(), True),\n",
    "        T.StructField(\"monthly_salary\", T.DoubleType(), True),\n",
    "        T.StructField(\"is_active\", T.IntegerType(), True),\n",
    "        T.StructField(\"last_updated\", T.StringType(), True),\n",
    "        T.StructField(\"hire_date\", T.StringType(), True),\n",
    "        T.StructField(\"termination_date\", T.StringType(), True),\n",
    "    ])\n",
    "    return spark.createDataFrame(rows, schema)"
   ]
  },
  {
   "cell_type": "markdown",
   "metadata": {
    "application/vnd.databricks.v1+cell": {
     "cellMetadata": {
      "byteLimit": 2048000,
      "rowLimit": 10000
     },
     "inputWidgets": {},
     "nuid": "74cb7bc7-5c1c-46b9-9754-bfd5acc939fc",
     "showTitle": false,
     "tableResultSettingsMap": {},
     "title": ""
    }
   },
   "source": [
    "# Generating data"
   ]
  },
  {
   "cell_type": "code",
   "execution_count": 0,
   "metadata": {
    "application/vnd.databricks.v1+cell": {
     "cellMetadata": {
      "byteLimit": 2048000,
      "rowLimit": 10000
     },
     "inputWidgets": {},
     "nuid": "ffbe3957-1ead-40e6-b91b-49ebbbf36a69",
     "showTitle": false,
     "tableResultSettingsMap": {},
     "title": ""
    }
   },
   "outputs": [
    {
     "output_type": "stream",
     "name": "stderr",
     "output_type": "stream",
     "text": [
      "/home/spark-39b6bbd2-af79-4686-bcb1-a0/.ipykernel/2497/command-6145021965692727-742689656:5: DeprecationWarning: datetime.datetime.utcnow() is deprecated and scheduled for removal in a future version. Use timezone-aware objects to represent datetimes in UTC: datetime.datetime.now(datetime.UTC).\n  return (datetime.utcnow() - timedelta(days=random.randint(0, max_days)))\n"
     ]
    }
   ],
   "source": [
    "num_customers, num_stores, num_products, num_employees = 5000, 40, 1500, 600\n",
    "customers_df = gen_customers(num_customers)\n",
    "stores_df    = gen_stores(num_stores)\n",
    "products_df  = gen_products(num_products)\n",
    "employees_df = gen_employees(num_employees, stores_df)"
   ]
  },
  {
   "cell_type": "markdown",
   "metadata": {
    "application/vnd.databricks.v1+cell": {
     "cellMetadata": {
      "byteLimit": 2048000,
      "rowLimit": 10000
     },
     "inputWidgets": {},
     "nuid": "4c048b3f-bb66-44cc-9ece-d4c3a36d2dea",
     "showTitle": false,
     "tableResultSettingsMap": {},
     "title": ""
    }
   },
   "source": [
    "# Saving data to partioned file"
   ]
  },
  {
   "cell_type": "code",
   "execution_count": 0,
   "metadata": {
    "application/vnd.databricks.v1+cell": {
     "cellMetadata": {
      "byteLimit": 2048000,
      "rowLimit": 10000
     },
     "collapsed": true,
     "inputWidgets": {},
     "nuid": "bd01897a-f1b8-4d0c-b62a-92445c50ca03",
     "showTitle": false,
     "tableResultSettingsMap": {},
     "title": ""
    }
   },
   "outputs": [
    {
     "output_type": "stream",
     "name": "stderr",
     "output_type": "stream",
     "text": [
      "/home/spark-39b6bbd2-af79-4686-bcb1-a0/.ipykernel/2497/command-4924321236212886-1335521413:1: DeprecationWarning: datetime.datetime.utcnow() is deprecated and scheduled for removal in a future version. Use timezone-aware objects to represent datetimes in UTC: datetime.datetime.now(datetime.UTC).\n  load_dt = datetime.utcnow().strftime(\"%Y-%m-%d\")\n"
     ]
    }
   ],
   "source": [
    "load_dt = datetime.utcnow().strftime(\"%Y-%m-%d\")\n",
    "for name, df in [(\"customers\", customers_df),(\"stores\", stores_df),(\"products\", products_df),(\"employees\", employees_df)]:\n",
    "    (df.withColumn(\"ingestion_date\", F.lit(load_dt)).write.mode(\"overwrite\").format(\"delta\").partitionBy(\"ingestion_date\").save(PATHS[name]))\n"
   ]
  },
  {
   "cell_type": "markdown",
   "metadata": {
    "application/vnd.databricks.v1+cell": {
     "cellMetadata": {
      "byteLimit": 2048000,
      "rowLimit": 10000
     },
     "inputWidgets": {},
     "nuid": "872c7d18-c2c5-43b6-9af0-2472e746e626",
     "showTitle": false,
     "tableResultSettingsMap": {},
     "title": ""
    }
   },
   "source": [
    "# Introducing Updates \n",
    "## Product updates\n",
    "### Suffles rows randomly and select top 1000"
   ]
  },
  {
   "cell_type": "code",
   "execution_count": 0,
   "metadata": {
    "application/vnd.databricks.v1+cell": {
     "cellMetadata": {
      "byteLimit": 2048000,
      "rowLimit": 10000
     },
     "inputWidgets": {},
     "nuid": "1bed351c-21be-46f2-936e-d7d920ac3a97",
     "showTitle": false,
     "tableResultSettingsMap": {},
     "title": ""
    }
   },
   "outputs": [],
   "source": [
    "# Suffles rows randomly and give 1000 random records \n",
    "num_updates = 200\n",
    "pids = [r.product_id for r in spark.read.format(\"delta\").load(PATHS[\"products\"]).orderBy(F.rand()).select(\"product_id\").limit(1000).collect()]\n"
   ]
  },
  {
   "cell_type": "markdown",
   "metadata": {
    "application/vnd.databricks.v1+cell": {
     "cellMetadata": {
      "byteLimit": 2048000,
      "rowLimit": 10000
     },
     "inputWidgets": {},
     "nuid": "e2824eb7-074f-4798-8d24-0addbea9379a",
     "showTitle": false,
     "tableResultSettingsMap": {},
     "title": ""
    }
   },
   "source": [
    "### Prepare json with induced updates"
   ]
  },
  {
   "cell_type": "code",
   "execution_count": 0,
   "metadata": {
    "application/vnd.databricks.v1+cell": {
     "cellMetadata": {
      "byteLimit": 2048000,
      "rowLimit": 10000
     },
     "collapsed": true,
     "inputWidgets": {},
     "nuid": "aabbfe0c-11b7-47fb-9840-a72c1457ffdf",
     "showTitle": false,
     "tableResultSettingsMap": {},
     "title": ""
    }
   },
   "outputs": [
    {
     "output_type": "stream",
     "name": "stderr",
     "output_type": "stream",
     "text": [
      "/home/spark-39b6bbd2-af79-4686-bcb1-a0/.ipykernel/2497/command-5411029284155494-914342233:3: DeprecationWarning: datetime.datetime.utcnow() is deprecated and scheduled for removal in a future version. Use timezone-aware objects to represent datetimes in UTC: datetime.datetime.now(datetime.UTC).\n  now_s = datetime.utcnow().isoformat(timespec=\"seconds\")\n"
     ]
    }
   ],
   "source": [
    "\n",
    "updates = []\n",
    "for _ in range(num_updates):\n",
    "    now_s = datetime.utcnow().isoformat(timespec=\"seconds\")\n",
    "    r = random.random()\n",
    "    if r < 0.70 and pids:\n",
    "        pid = random.choice(pids)\n",
    "        updates.append({\"event_type\":\"UPDATE\",\"product_id\":pid,\"list_price\":round(random.uniform(5,3999),2),\"currency\":random.choice(CURRENCIES),\"is_active\":1,\"last_updated\":now_s})\n",
    "    elif r < 0.85:\n",
    "        pid = new_uuid()\n",
    "        updates.append({\"event_type\":\"CREATE\",\"product_id\":pid,\"product_name\":inject_encoding(random.choice([\"Router\",\"Dock\",\"Microphone\",\"Camera\"]))+f\" {random.randint(100,999)}\",\"brand\":random.choice(BRANDS),\"category\":random.choice(CATEGORIES),\"unit_cost\":round(random.uniform(3,1200),2),\"list_price\":round(random.uniform(9,3999),2),\"currency\":random.choice(CURRENCIES),\"is_active\":1,\"created_at\":now_s,\"last_updated\":now_s})\n",
    "    else:\n",
    "        pid = random.choice(pids)\n",
    "        updates.append({\"event_type\":\"SOFT_DELETE\",\"product_id\":pid,\"is_active\":0,\"last_updated\":now_s})\n",
    "\n",
    "upd_df = spark.createDataFrame(updates, \"event_type string, product_id string, product_name string, brand string, category string, unit_cost double, list_price double, currency string, is_active int, created_at string, last_updated string\")\n",
    "# .coalesce : used to write all data in single file.\n",
    "upd_df.coalesce(1).write.mode(\"append\").json(PATHS[\"api_products_updates\"])\n"
   ]
  },
  {
   "cell_type": "code",
   "execution_count": 0,
   "metadata": {
    "application/vnd.databricks.v1+cell": {
     "cellMetadata": {
      "byteLimit": 2048000,
      "rowLimit": 10000
     },
     "collapsed": true,
     "inputWidgets": {},
     "nuid": "f69075b7-afb9-4046-8c5c-ea47fd5bc256",
     "showTitle": false,
     "tableResultSettingsMap": {},
     "title": ""
    }
   },
   "outputs": [
    {
     "output_type": "stream",
     "name": "stderr",
     "output_type": "stream",
     "text": [
      "/home/spark-39b6bbd2-af79-4686-bcb1-a0/.ipykernel/2497/command-5273617864205614-224923477:5: DeprecationWarning: datetime.datetime.utcnow() is deprecated and scheduled for removal in a future version. Use timezone-aware objects to represent datetimes in UTC: datetime.datetime.now(datetime.UTC).\n  now_iso = datetime.utcnow().isoformat(timespec=\"seconds\")\n"
     ]
    }
   ],
   "source": [
    "# --- SFTP Simulation: CSV inventory snapshots ---\n",
    "store_ids = [r.store_id for r in stores_df.select(\"store_id\").collect()]\n",
    "prod_ids  = [r.product_id for r in products_df.select(\"product_id\").limit(600).collect()]\n",
    "rows = []\n",
    "now_iso = datetime.utcnow().isoformat(timespec=\"seconds\")\n",
    "for sid in store_ids:\n",
    "    for pid in random.sample(prod_ids, k=min(120, len(prod_ids))):\n",
    "        qty = max(0, int(random.gauss(40, 20)))\n",
    "        if random.random() < 0.02:\n",
    "            qty = int(qty * random.uniform(5, 20))\n",
    "        unit_cost = round(random.uniform(1, 1200), 2)\n",
    "        pid_val = pid if random.random() > 0.01 else \"\"\n",
    "        sid_val = sid if random.random() > 0.01 else None\n",
    "        rows.append((sid_val, pid_val, qty, unit_cost, now_iso))\n",
    "inv_df = spark.createDataFrame(rows, \"store_id string, product_id string, on_hand int, unit_cost double, snapshot_ts string\")\n",
    "inv_df.coalesce(1).write.mode(\"append\").option(\"header\",\"true\").csv(PATHS[\"sftp_inventory\"])\n"
   ]
  },
  {
   "cell_type": "code",
   "execution_count": 0,
   "metadata": {
    "application/vnd.databricks.v1+cell": {
     "cellMetadata": {
      "byteLimit": 2048000,
      "rowLimit": 10000
     },
     "inputWidgets": {},
     "nuid": "cad6b2fd-0ba3-4dd1-8aef-46204f35320b",
     "showTitle": false,
     "tableResultSettingsMap": {},
     "title": ""
    }
   },
   "outputs": [],
   "source": [
    "\n",
    "# --- Streaming sales to Event Hubs + bronze archive ---\n",
    "customers_b = customers_df.select(\"customer_id\").distinct()\n",
    "stores_b    = stores_df.select(\"store_id\").distinct()\n",
    "products_b  = products_df.select(\"product_id\", \"list_price\")\n",
    "\n",
    "cids = [r.customer_id for r in customers_b.limit(2000).collect()]\n",
    "sids = [r.store_id for r in stores_b.collect()]\n",
    "prows = [(r.product_id, float(r.list_price)) for r in products_b.limit(1500).collect()]\n",
    "\n",
    "@F.udf(\"string\")\n",
    "def udf_rand_cust():\n",
    "    import random\n",
    "    return random.choice(cids) if cids else str(uuid.uuid4())\n",
    "\n",
    "@F.udf(\"string\")\n",
    "def udf_rand_store():\n",
    "    import random\n",
    "    return random.choice(sids) if sids else str(uuid.uuid4())\n",
    "\n",
    "@F.udf(\"struct<product_id:string, unit_price:double>\")\n",
    "def udf_rand_product():\n",
    "    import random\n",
    "    if prows:\n",
    "        pid, price = random.choice(prows)\n",
    "        price = float(price) if price else round(random.uniform(5, 3999),2)\n",
    "        return {\"product_id\": pid, \"unit_price\": price}\n",
    "    return {\"product_id\": str(uuid.uuid4()), \"unit_price\": round(random.uniform(5, 3999),2)}\n",
    "\n",
    "order_stream = (spark.readStream.format(\"rate\").option(\"rowsPerSecond\", 20).load()\n",
    "    .withColumn(\"event_ts\", F.current_timestamp())\n",
    "    .withColumn(\"order_id\", F.expr(\"uuid()\"))\n",
    "    .withColumn(\"customer_id\", udf_rand_cust())\n",
    "    .withColumn(\"store_id\", udf_rand_store())\n",
    "    .withColumn(\"ps\", udf_rand_product())\n",
    "    .withColumn(\"product_id\", F.col(\"ps.product_id\"))\n",
    "    .withColumn(\"unit_price\", F.col(\"ps.unit_price\"))\n",
    "    .drop(\"ps\")\n",
    "    .withColumn(\"quantity\", (F.rand()*5 + 1).cast(\"int\"))\n",
    "    .withColumn(\"currency\", udf_random_currency())\n",
    "    .withColumn(\"gross_amount\", F.col(\"unit_price\")*F.col(\"quantity\"))\n",
    "    .withColumn(\"event_time_str\", F.when(F.rand()<0.12, F.date_format(F.col(\"event_ts\"), \"dd/MM/yyyy HH:mm:ss\")).otherwise(F.date_format(F.col(\"event_ts\"), \"yyyy-MM-dd HH:mm:ss\")))\n",
    ")\n",
    "\n"
   ]
  },
  {
   "cell_type": "code",
   "execution_count": 0,
   "metadata": {
    "application/vnd.databricks.v1+cell": {
     "cellMetadata": {
      "byteLimit": 2048000,
      "rowLimit": 10000
     },
     "inputWidgets": {},
     "nuid": "4caa861f-74b1-40b5-8dab-c5b00f9222ad",
     "showTitle": false,
     "tableResultSettingsMap": {},
     "title": ""
    }
   },
   "outputs": [],
   "source": [
    "\n",
    "bronze_query = (\n",
    "    order_stream\n",
    "    .withColumn(\"ingestion_date\", F.to_date(F.current_timestamp()))\n",
    "    .writeStream\n",
    "    .format(\"delta\")\n",
    "    .outputMode(\"append\")\n",
    "    .option(\"checkpointLocation\", f\"{PATHS['sales']}/_chk_bronze\")\n",
    "    .trigger(availableNow=True)\n",
    "    .start(PATHS[\"sales\"])\n",
    "    )"
   ]
  },
  {
   "cell_type": "code",
   "execution_count": 0,
   "metadata": {
    "application/vnd.databricks.v1+cell": {
     "cellMetadata": {
      "byteLimit": 2048000,
      "rowLimit": 10000
     },
     "inputWidgets": {},
     "nuid": "25fada73-1fac-4849-af8f-be367ddbbebd",
     "showTitle": false,
     "tableResultSettingsMap": {},
     "title": ""
    }
   },
   "outputs": [
    {
     "output_type": "display_data",
     "data": {
      "text/html": [
       "<style scoped>\n",
       "  .table-result-container {\n",
       "    max-height: 300px;\n",
       "    overflow: auto;\n",
       "  }\n",
       "  table, th, td {\n",
       "    border: 1px solid black;\n",
       "    border-collapse: collapse;\n",
       "  }\n",
       "  th, td {\n",
       "    padding: 5px;\n",
       "  }\n",
       "  th {\n",
       "    text-align: left;\n",
       "  }\n",
       "</style><div class='table-result-container'><table class='table-result'><thead style='background-color: white'><tr><th>timestamp</th><th>value</th><th>event_ts</th><th>order_id</th><th>customer_id</th><th>store_id</th><th>product_id</th><th>unit_price</th><th>quantity</th><th>currency</th><th>gross_amount</th><th>event_time_str</th><th>ingestion_date</th></tr></thead><tbody><tr><td>2025-11-01T05:12:32.430Z</td><td>1</td><td>2025-11-01T05:12:32.994Z</td><td>2936060c-761b-4e0e-8c8e-83257cedd47d</td><td>ae110c11-92f5-4003-b098-e209b1e34943</td><td>8834b80b-8915-4873-bb53-e1c901b6e05d</td><td>d40971b4-294e-4df2-a85b-b485745432f1</td><td>1342.18</td><td>1</td><td>SEK</td><td>1342.18</td><td>2025-11-01 05:12:32</td><td>2025-11-01</td></tr><tr><td>2025-11-01T05:12:32.830Z</td><td>9</td><td>2025-11-01T05:12:32.994Z</td><td>3dc84714-b073-4eaa-8688-a7a7c74f258c</td><td>48f6f91e-51bc-498e-b0a7-4535ef67720a</td><td>7690015a-9ddc-4b6f-856d-69d72fd5400a</td><td>777fff37-85e1-477f-896f-2b9093461580</td><td>162.74</td><td>2</td><td>SEK</td><td>325.48</td><td>2025-11-01 05:12:32</td><td>2025-11-01</td></tr><tr><td>2025-11-01T05:12:32.380Z</td><td>0</td><td>2025-11-01T05:12:32.994Z</td><td>692f63df-5980-4727-813d-04f0941e5d11</td><td>a2899654-7a5c-4b94-b78e-9cde52e256cd</td><td>7ad5ca33-71e5-4046-a227-39510503e352</td><td>4600910b-ff14-4b4a-a23f-b77895c66419</td><td>491.23</td><td>5</td><td>EUR</td><td>2456.15</td><td>2025-11-01 05:12:32</td><td>2025-11-01</td></tr><tr><td>2025-11-01T05:12:32.780Z</td><td>8</td><td>2025-11-01T05:12:32.994Z</td><td>2e325b99-41f2-4991-9779-9a4e32004a10</td><td>e930f402-ce4e-437c-98e3-572a2461b3b4</td><td>8834b80b-8915-4873-bb53-e1c901b6e05d</td><td>0e721437-fdfa-481b-874d-e94cc7da7735</td><td>100.24</td><td>3</td><td>GBP</td><td>300.71999999999997</td><td>2025-11-01 05:12:32</td><td>2025-11-01</td></tr><tr><td>2025-11-01T05:12:32.530Z</td><td>3</td><td>2025-11-01T05:12:32.994Z</td><td>f1b40658-b81e-4af6-92ae-98b0afe287aa</td><td>91a3522c-6b2b-4113-81bd-7458c390ec5c</td><td>0a884392-ed30-4af3-98c4-c1d915122b2d</td><td>a6c27ea5-f09f-4a1d-9b2c-95e45ac9c74d</td><td>1779.03</td><td>5</td><td>SEK</td><td>8895.15</td><td>2025-11-01 05:12:32</td><td>2025-11-01</td></tr><tr><td>2025-11-01T05:12:32.930Z</td><td>11</td><td>2025-11-01T05:12:32.994Z</td><td>47be7a98-016d-40a6-9ca6-a53577bf47af</td><td>fcc22e9d-9e13-4e5a-b349-9becf72e8c5d</td><td>30ac6943-ba56-4afb-83c2-1768cd1f62dd</td><td>f6c1376c-d41a-432e-b224-aa17d573e965</td><td>2788.63</td><td>4</td><td>GBP</td><td>11154.52</td><td>2025-11-01 05:12:32</td><td>2025-11-01</td></tr><tr><td>2025-11-01T05:12:32.480Z</td><td>2</td><td>2025-11-01T05:12:32.994Z</td><td>8269468e-e368-49df-ad04-63480f2771e0</td><td>f6aad6f3-be3a-4208-88d1-d014fcd75ffe</td><td>229aeedc-4f11-4fdd-9af1-076b9bec1f2a</td><td>11e02db4-5c7b-4510-aecc-a8cd36f7d19a</td><td>2525.19</td><td>2</td><td>GBP</td><td>5050.38</td><td>2025-11-01 05:12:32</td><td>2025-11-01</td></tr><tr><td>2025-11-01T05:12:32.880Z</td><td>10</td><td>2025-11-01T05:12:32.994Z</td><td>4681d145-7487-469e-b139-c5faaec30d69</td><td>4c55859f-604b-4940-b11f-25eab9fc3712</td><td>416762e0-3127-42be-aa5a-f75cdf2b1db7</td><td>15b96603-1b6c-4696-a01d-58dbe5a578a1</td><td>2394.6</td><td>3</td><td>EUR</td><td>7183.799999999999</td><td>2025-11-01 05:12:32</td><td>2025-11-01</td></tr><tr><td>2025-11-01T05:12:32.580Z</td><td>4</td><td>2025-11-01T05:12:32.994Z</td><td>898cc94f-94b2-48f3-8ca2-044e1b9363ab</td><td>6bb24b5b-527c-41ea-8847-ba9887742ad4</td><td>60d1b93a-53a4-4c16-ae69-d189e7f745e7</td><td>9b1a077b-fb7f-4432-86c8-3c262fbf5010</td><td>243.45</td><td>1</td><td>SEK</td><td>243.45</td><td>2025-11-01 05:12:32</td><td>2025-11-01</td></tr><tr><td>2025-11-01T05:12:32.630Z</td><td>5</td><td>2025-11-01T05:12:32.994Z</td><td>a2dffd20-f34b-40e5-8b86-3078a26fe1c9</td><td>c1fd1301-9be3-43db-bdea-258df247bf5a</td><td>0a884392-ed30-4af3-98c4-c1d915122b2d</td><td>e6cb927d-56a4-4f4a-9772-047c8eda7026</td><td>1011.81</td><td>5</td><td>SEK</td><td>5059.049999999999</td><td>2025-11-01 05:12:32</td><td>2025-11-01</td></tr><tr><td>2025-11-01T05:12:32.680Z</td><td>6</td><td>2025-11-01T05:12:32.994Z</td><td>4d7bb7e9-3803-4e47-b3c2-76d117e6119b</td><td>2f34cfb4-d23e-4200-b6a1-5800ee55f9be</td><td>9650edfa-f1e2-4f17-93f0-57ff4c1d5585</td><td>6e6d832b-a219-48d1-b142-70876277288d</td><td>673.09</td><td>3</td><td>GBP</td><td>2019.27</td><td>2025-11-01 05:12:32</td><td>2025-11-01</td></tr><tr><td>2025-11-01T05:12:32.730Z</td><td>7</td><td>2025-11-01T05:12:32.994Z</td><td>b4ab9cf0-f099-46fe-958f-d295c25d5f67</td><td>62c3775a-be7d-471c-8aa8-3a8597ab92ee</td><td>f5bbcda2-610e-4bdd-9e2d-c6e7622290a2</td><td>6e4fb480-4e5e-40e3-8175-50104f643ba2</td><td>640.28</td><td>3</td><td>GBP</td><td>1920.84</td><td>2025-11-01 05:12:32</td><td>2025-11-01</td></tr></tbody></table></div>"
      ]
     },
     "metadata": {
      "application/vnd.databricks.v1+output": {
       "addedWidgets": {},
       "aggData": [],
       "aggError": "",
       "aggOverflow": false,
       "aggSchema": [],
       "aggSeriesLimitReached": false,
       "aggType": "",
       "arguments": {},
       "columnCustomDisplayInfos": {},
       "data": [
        [
         "2025-11-01T05:12:32.430Z",
         1,
         "2025-11-01T05:12:32.994Z",
         "2936060c-761b-4e0e-8c8e-83257cedd47d",
         "ae110c11-92f5-4003-b098-e209b1e34943",
         "8834b80b-8915-4873-bb53-e1c901b6e05d",
         "d40971b4-294e-4df2-a85b-b485745432f1",
         1342.18,
         1,
         "SEK",
         1342.18,
         "2025-11-01 05:12:32",
         "2025-11-01"
        ],
        [
         "2025-11-01T05:12:32.830Z",
         9,
         "2025-11-01T05:12:32.994Z",
         "3dc84714-b073-4eaa-8688-a7a7c74f258c",
         "48f6f91e-51bc-498e-b0a7-4535ef67720a",
         "7690015a-9ddc-4b6f-856d-69d72fd5400a",
         "777fff37-85e1-477f-896f-2b9093461580",
         162.74,
         2,
         "SEK",
         325.48,
         "2025-11-01 05:12:32",
         "2025-11-01"
        ],
        [
         "2025-11-01T05:12:32.380Z",
         0,
         "2025-11-01T05:12:32.994Z",
         "692f63df-5980-4727-813d-04f0941e5d11",
         "a2899654-7a5c-4b94-b78e-9cde52e256cd",
         "7ad5ca33-71e5-4046-a227-39510503e352",
         "4600910b-ff14-4b4a-a23f-b77895c66419",
         491.23,
         5,
         "EUR",
         2456.15,
         "2025-11-01 05:12:32",
         "2025-11-01"
        ],
        [
         "2025-11-01T05:12:32.780Z",
         8,
         "2025-11-01T05:12:32.994Z",
         "2e325b99-41f2-4991-9779-9a4e32004a10",
         "e930f402-ce4e-437c-98e3-572a2461b3b4",
         "8834b80b-8915-4873-bb53-e1c901b6e05d",
         "0e721437-fdfa-481b-874d-e94cc7da7735",
         100.24,
         3,
         "GBP",
         300.71999999999997,
         "2025-11-01 05:12:32",
         "2025-11-01"
        ],
        [
         "2025-11-01T05:12:32.530Z",
         3,
         "2025-11-01T05:12:32.994Z",
         "f1b40658-b81e-4af6-92ae-98b0afe287aa",
         "91a3522c-6b2b-4113-81bd-7458c390ec5c",
         "0a884392-ed30-4af3-98c4-c1d915122b2d",
         "a6c27ea5-f09f-4a1d-9b2c-95e45ac9c74d",
         1779.03,
         5,
         "SEK",
         8895.15,
         "2025-11-01 05:12:32",
         "2025-11-01"
        ],
        [
         "2025-11-01T05:12:32.930Z",
         11,
         "2025-11-01T05:12:32.994Z",
         "47be7a98-016d-40a6-9ca6-a53577bf47af",
         "fcc22e9d-9e13-4e5a-b349-9becf72e8c5d",
         "30ac6943-ba56-4afb-83c2-1768cd1f62dd",
         "f6c1376c-d41a-432e-b224-aa17d573e965",
         2788.63,
         4,
         "GBP",
         11154.52,
         "2025-11-01 05:12:32",
         "2025-11-01"
        ],
        [
         "2025-11-01T05:12:32.480Z",
         2,
         "2025-11-01T05:12:32.994Z",
         "8269468e-e368-49df-ad04-63480f2771e0",
         "f6aad6f3-be3a-4208-88d1-d014fcd75ffe",
         "229aeedc-4f11-4fdd-9af1-076b9bec1f2a",
         "11e02db4-5c7b-4510-aecc-a8cd36f7d19a",
         2525.19,
         2,
         "GBP",
         5050.38,
         "2025-11-01 05:12:32",
         "2025-11-01"
        ],
        [
         "2025-11-01T05:12:32.880Z",
         10,
         "2025-11-01T05:12:32.994Z",
         "4681d145-7487-469e-b139-c5faaec30d69",
         "4c55859f-604b-4940-b11f-25eab9fc3712",
         "416762e0-3127-42be-aa5a-f75cdf2b1db7",
         "15b96603-1b6c-4696-a01d-58dbe5a578a1",
         2394.6,
         3,
         "EUR",
         7183.799999999999,
         "2025-11-01 05:12:32",
         "2025-11-01"
        ],
        [
         "2025-11-01T05:12:32.580Z",
         4,
         "2025-11-01T05:12:32.994Z",
         "898cc94f-94b2-48f3-8ca2-044e1b9363ab",
         "6bb24b5b-527c-41ea-8847-ba9887742ad4",
         "60d1b93a-53a4-4c16-ae69-d189e7f745e7",
         "9b1a077b-fb7f-4432-86c8-3c262fbf5010",
         243.45,
         1,
         "SEK",
         243.45,
         "2025-11-01 05:12:32",
         "2025-11-01"
        ],
        [
         "2025-11-01T05:12:32.630Z",
         5,
         "2025-11-01T05:12:32.994Z",
         "a2dffd20-f34b-40e5-8b86-3078a26fe1c9",
         "c1fd1301-9be3-43db-bdea-258df247bf5a",
         "0a884392-ed30-4af3-98c4-c1d915122b2d",
         "e6cb927d-56a4-4f4a-9772-047c8eda7026",
         1011.81,
         5,
         "SEK",
         5059.049999999999,
         "2025-11-01 05:12:32",
         "2025-11-01"
        ],
        [
         "2025-11-01T05:12:32.680Z",
         6,
         "2025-11-01T05:12:32.994Z",
         "4d7bb7e9-3803-4e47-b3c2-76d117e6119b",
         "2f34cfb4-d23e-4200-b6a1-5800ee55f9be",
         "9650edfa-f1e2-4f17-93f0-57ff4c1d5585",
         "6e6d832b-a219-48d1-b142-70876277288d",
         673.09,
         3,
         "GBP",
         2019.27,
         "2025-11-01 05:12:32",
         "2025-11-01"
        ],
        [
         "2025-11-01T05:12:32.730Z",
         7,
         "2025-11-01T05:12:32.994Z",
         "b4ab9cf0-f099-46fe-958f-d295c25d5f67",
         "62c3775a-be7d-471c-8aa8-3a8597ab92ee",
         "f5bbcda2-610e-4bdd-9e2d-c6e7622290a2",
         "6e4fb480-4e5e-40e3-8175-50104f643ba2",
         640.28,
         3,
         "GBP",
         1920.84,
         "2025-11-01 05:12:32",
         "2025-11-01"
        ]
       ],
       "datasetInfos": [],
       "dbfsResultPath": null,
       "isJsonSchema": true,
       "metadata": {},
       "overflow": false,
       "plotOptions": {
        "customPlotOptions": {},
        "displayType": "table",
        "pivotAggregation": null,
        "pivotColumns": null,
        "xColumns": null,
        "yColumns": null
       },
       "removedWidgets": [],
       "schema": [
        {
         "metadata": "{}",
         "name": "timestamp",
         "type": "\"timestamp\""
        },
        {
         "metadata": "{}",
         "name": "value",
         "type": "\"long\""
        },
        {
         "metadata": "{}",
         "name": "event_ts",
         "type": "\"timestamp\""
        },
        {
         "metadata": "{}",
         "name": "order_id",
         "type": "\"string\""
        },
        {
         "metadata": "{}",
         "name": "customer_id",
         "type": "\"string\""
        },
        {
         "metadata": "{}",
         "name": "store_id",
         "type": "\"string\""
        },
        {
         "metadata": "{}",
         "name": "product_id",
         "type": "\"string\""
        },
        {
         "metadata": "{}",
         "name": "unit_price",
         "type": "\"double\""
        },
        {
         "metadata": "{}",
         "name": "quantity",
         "type": "\"integer\""
        },
        {
         "metadata": "{}",
         "name": "currency",
         "type": "\"string\""
        },
        {
         "metadata": "{}",
         "name": "gross_amount",
         "type": "\"double\""
        },
        {
         "metadata": "{}",
         "name": "event_time_str",
         "type": "\"string\""
        },
        {
         "metadata": "{}",
         "name": "ingestion_date",
         "type": "\"date\""
        }
       ],
       "type": "table"
      }
     },
     "output_type": "display_data"
    }
   ],
   "source": [
    "spark.read.format('delta').load(PATHS[\"sales\"] ).display()"
   ]
  }
 ],
 "metadata": {
  "application/vnd.databricks.v1+notebook": {
   "computePreferences": null,
   "dashboards": [],
   "environmentMetadata": {
    "base_environment": "",
    "environment_version": "4"
   },
   "inputWidgetPreferences": null,
   "language": "python",
   "notebookMetadata": {
    "mostRecentlyExecutedCommandWithImplicitDF": {
     "commandId": 4924321236212887,
     "dataframes": [
      "_sqldf"
     ]
    },
    "pythonIndentUnit": 4
   },
   "notebookName": "hybrid_retail_mock_core_data",
   "widgets": {}
  },
  "language_info": {
   "name": "python"
  }
 },
 "nbformat": 4,
 "nbformat_minor": 0
}